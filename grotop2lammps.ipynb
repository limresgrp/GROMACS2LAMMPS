{
 "cells": [
  {
   "cell_type": "code",
   "execution_count": null,
   "id": "b6a5495b",
   "metadata": {},
   "outputs": [],
   "source": [
    "from main import main\n",
    "\n",
    "\n",
    "gro_file = \"/storage_common/angiod/POPC/forLAMMPS/bilayer.gro\"\n",
    "top_file = \"/storage_common/angiod/POPC/forLAMMPS/bilayer.top\"\n",
    "out_folder = \"LAMMPS/POPC\"\n",
    "\n",
    "# gro_file = \"/scratch/angiod/POPC/LAMMPS/propane/propane_fragment.gro\"\n",
    "# top_file = \"/scratch/angiod/POPC/LAMMPS/propane/propane_fragment.top\"\n",
    "# out_folder = \"/scratch/angiod/LAMMPS/propane\"\n",
    "main(gro_file=gro_file, top_file=top_file, out_folder=out_folder)"
   ]
  }
 ],
 "metadata": {
  "kernelspec": {
   "display_name": "base",
   "language": "python",
   "name": "python3"
  },
  "language_info": {
   "codemirror_mode": {
    "name": "ipython",
    "version": 3
   },
   "file_extension": ".py",
   "mimetype": "text/x-python",
   "name": "python",
   "nbconvert_exporter": "python",
   "pygments_lexer": "ipython3",
   "version": "3.9.13"
  }
 },
 "nbformat": 4,
 "nbformat_minor": 5
}
